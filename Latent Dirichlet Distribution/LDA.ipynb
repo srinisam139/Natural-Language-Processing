{
 "cells": [
  {
   "cell_type": "code",
   "execution_count": 1,
   "metadata": {},
   "outputs": [
    {
     "name": "stderr",
     "output_type": "stream",
     "text": [
      "/.autofs/tools/spack/var/spack/environments/engl-581-2/.spack-env/view/lib/python3.8/site-packages/jmespath/visitor.py:32: SyntaxWarning: \"is\" with a literal. Did you mean \"==\"?\n",
      "  if x is 0 or x is 1:\n",
      "/.autofs/tools/spack/var/spack/environments/engl-581-2/.spack-env/view/lib/python3.8/site-packages/jmespath/visitor.py:32: SyntaxWarning: \"is\" with a literal. Did you mean \"==\"?\n",
      "  if x is 0 or x is 1:\n",
      "/.autofs/tools/spack/var/spack/environments/engl-581-2/.spack-env/view/lib/python3.8/site-packages/jmespath/visitor.py:34: SyntaxWarning: \"is\" with a literal. Did you mean \"==\"?\n",
      "  elif y is 0 or y is 1:\n",
      "/.autofs/tools/spack/var/spack/environments/engl-581-2/.spack-env/view/lib/python3.8/site-packages/jmespath/visitor.py:34: SyntaxWarning: \"is\" with a literal. Did you mean \"==\"?\n",
      "  elif y is 0 or y is 1:\n",
      "/.autofs/tools/spack/var/spack/environments/engl-581-2/.spack-env/view/lib/python3.8/site-packages/jmespath/visitor.py:260: SyntaxWarning: \"is\" with a literal. Did you mean \"==\"?\n",
      "  if original_result is 0:\n",
      "[nltk_data] Downloading package omw-1.4 to /home/kkt7778/nltk_data...\n",
      "[nltk_data]   Package omw-1.4 is already up-to-date!\n",
      "[nltk_data] Downloading package wordnet to /home/kkt7778/nltk_data...\n",
      "[nltk_data]   Package wordnet is already up-to-date!\n",
      "[nltk_data] Downloading package averaged_perceptron_tagger to\n",
      "[nltk_data]     /home/kkt7778/nltk_data...\n",
      "[nltk_data]   Package averaged_perceptron_tagger is already up-to-\n",
      "[nltk_data]       date!\n",
      "[nltk_data] Downloading package punkt to /home/kkt7778/nltk_data...\n",
      "[nltk_data]   Package punkt is already up-to-date!\n",
      "[nltk_data] Downloading package stopwords to\n",
      "[nltk_data]     /home/kkt7778/nltk_data...\n",
      "[nltk_data]   Package stopwords is already up-to-date!\n"
     ]
    },
    {
     "name": "stdout",
     "output_type": "stream",
     "text": [
      "Topic: 0 Word: 0.022*\"get\" + 0.017*\"like\" + 0.015*\"one\" + 0.011*\"use\" + 0.010*\"make\" + 0.010*\"look\" + 0.009*\"think\" + 0.009*\"time\" + 0.009*\"see\" + 0.009*\"good\"\n",
      "Topic: 1 Word: 0.038*\"key\" + 0.032*\"use\" + 0.016*\"system\" + 0.016*\"encryption\" + 0.015*\"information\" + 0.014*\"data\" + 0.014*\"mail\" + 0.014*\"post\" + 0.011*\"message\" + 0.011*\"bit\"\n",
      "Topic: 2 Word: 0.015*\"food\" + 0.014*\"cause\" + 0.013*\"patient\" + 0.013*\"health\" + 0.012*\"disease\" + 0.011*\"study\" + 0.010*\"medical\" + 0.010*\"pain\" + 0.010*\"child\" + 0.010*\"water\"\n",
      "Topic: 3 Word: 0.021*\"one\" + 0.011*\"chip\" + 0.010*\"call\" + 0.009*\"case\" + 0.009*\"give\" + 0.007*\"may\" + 0.007*\"even\" + 0.006*\"right\" + 0.006*\"know\" + 0.005*\"time\"\n",
      "Topic: 4 Word: 0.012*\"go\" + 0.009*\"period\" + 0.008*\"owner\" + 0.008*\"goal\" + 0.008*\"first\" + 0.007*\"mike\" + 0.007*\"sport\" + 0.006*\"trade\" + 0.006*\"young\" + 0.006*\"penalty\"\n",
      "Topic: 5 Word: 0.027*\"bike\" + 0.022*\"dod\" + 0.018*\"right\" + 0.017*\"flyer\" + 0.016*\"left\" + 0.013*\"ride\" + 0.012*\"motorcycle\" + 0.012*\"playoff\" + 0.011*\"side\" + 0.010*\"power\"\n",
      "Topic: 6 Word: 0.022*\"people\" + 0.020*\"government\" + 0.013*\"say\" + 0.012*\"right\" + 0.011*\"law\" + 0.011*\"make\" + 0.010*\"state\" + 0.009*\"american\" + 0.008*\"issue\" + 0.008*\"president\"\n",
      "Topic: 7 Word: 0.036*\"team\" + 0.035*\"game\" + 0.022*\"year\" + 0.022*\"play\" + 0.020*\"player\" + 0.018*\"win\" + 0.014*\"season\" + 0.012*\"score\" + 0.012*\"get\" + 0.011*\"hockey\"\n",
      "Topic: 8 Word: 0.014*\"space\" + 0.009*\"year\" + 0.009*\"first\" + 0.006*\"system\" + 0.006*\"also\" + 0.006*\"probe\" + 0.006*\"launch\" + 0.005*\"university\" + 0.005*\"mission\" + 0.005*\"program\"\n",
      "C_v coherence:  0.49692600691919026\n",
      "u_mass coherence:  -2.07477441566965\n",
      "Perplexity:  -7.5641873461347675\n"
     ]
    }
   ],
   "source": [
    "# Make sure to run this with 5 cores and the following environment args: env activate engl-581-2\n",
    "import topic_classifier\n",
    "from topic_classifier import *\n",
    "\n",
    "\n",
    "# How to run: tc = TopicClassifer(\"train/test\", \"train/testdata.csv\", \"model file\")\n",
    "# Sample call for getting training data from \"T2_train.csv\", training a model and saving it to \"LDA_model_params_8\":\n",
    "# tc = TopicClassifer(\"train\", \"T2_train.csv\", \"LDA_model_params_8\")\n",
    "\n",
    "tc = TopicClassifer(\"test\", \"T2_train.csv\", \"LDA_model_params_8\")\n",
    "\n"
   ]
  },
  {
   "cell_type": "code",
   "execution_count": null,
   "metadata": {},
   "outputs": [],
   "source": []
  },
  {
   "cell_type": "code",
   "execution_count": null,
   "metadata": {},
   "outputs": [],
   "source": []
  }
 ],
 "metadata": {
  "kernelspec": {
   "display_name": "Python 3",
   "language": "python",
   "name": "python3"
  },
  "language_info": {
   "codemirror_mode": {
    "name": "ipython",
    "version": 3
   },
   "file_extension": ".py",
   "mimetype": "text/x-python",
   "name": "python",
   "nbconvert_exporter": "python",
   "pygments_lexer": "ipython3",
   "version": "3.8.3"
  }
 },
 "nbformat": 4,
 "nbformat_minor": 2
}
